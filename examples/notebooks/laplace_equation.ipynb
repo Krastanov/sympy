{
 "metadata": {
  "name": "laplace_equation"
 },
 "nbformat": 3,
 "worksheets": [
  {
   "cells": [
    {
     "cell_type": "markdown",
     "source": [
      "#Separation of variables in Laplace equation in spherical coordinates"
     ]
    },
    {
     "cell_type": "code",
     "collapsed": false,
     "input": [
      "r, phi, theta = symbols(\"r,phi,theta\")",
      "Xi = Function('Xi')",
      "R, Phi, Theta, u = map(Function, ['R', 'Phi', 'Theta', 'u'])",
      "C1, C2 = symbols('C1,C2')",
      "D = Derivative"
     ],
     "language": "python",
     "outputs": [],
     "prompt_number": 1
    },
    {
     "cell_type": "markdown",
     "source": [
      "## Laplace equation in spherical coordinates:"
     ]
    },
    {
     "cell_type": "code",
     "collapsed": false,
     "input": [
      "eq = Eq(D(Xi(r, phi, theta), r, 2) + 2/r * D(Xi(r, phi, theta),r) + \\",
      "        1/(r**2 * sin(phi)**2) * D(Xi(r, phi, theta), theta, 2) + \\",
      "        cos(phi)/(r**2 * sin(phi)) * D(Xi(r, phi, theta), phi) + \\",
      "        1/r**2 * D(Xi(r, phi, theta), phi, 2))",
      "eq",
      ""
     ],
     "language": "python",
     "outputs": [
      {
       "latex": [
        "$$\\frac{\\partial^{2}}{\\partial^{2} r}  \\operatorname{Xi}{\\left (r,\\phi,\\theta \\right )} + 2 \\frac{\\frac{\\partial}{\\partial r} \\operatorname{Xi}{\\left (r,\\phi,\\theta \\right )}}{r} + \\frac{\\frac{\\partial^{2}}{\\partial^{2} \\phi}  \\operatorname{Xi}{\\left (r,\\phi,\\theta \\right )}}{r^{2}} + \\frac{\\cos{\\left (\\phi \\right )} \\frac{\\partial}{\\partial \\phi} \\operatorname{Xi}{\\left (r,\\phi,\\theta \\right )}}{r^{2} \\sin{\\left (\\phi \\right )}} + \\frac{\\frac{\\partial^{2}}{\\partial^{2} \\theta}  \\operatorname{Xi}{\\left (r,\\phi,\\theta \\right )}}{r^{2} \\sin^{2}{\\left (\\phi \\right )}} = 0$$"
       ],
       "output_type": "pyout",
       "png": "[encoded data removed]",
       "prompt_number": 2,
       "text": [
        "",
        "                                       2                                      ",
        "                                      d                                       ",
        "                    d                \u2500\u2500\u2500(\u039e(r, \u03c6, \u03b8))          d               ",
        "  2               2\u22c5\u2500\u2500(\u039e(r, \u03c6, \u03b8))     2               cos(\u03c6)\u22c5\u2500\u2500(\u039e(r, \u03c6, \u03b8))  ",
        " d                  dr               d\u03c6                       d\u03c6              ",
        "\u2500\u2500\u2500(\u039e(r, \u03c6, \u03b8)) + \u2500\u2500\u2500\u2500\u2500\u2500\u2500\u2500\u2500\u2500\u2500\u2500\u2500\u2500\u2500\u2500 + \u2500\u2500\u2500\u2500\u2500\u2500\u2500\u2500\u2500\u2500\u2500\u2500\u2500\u2500\u2500 + \u2500\u2500\u2500\u2500\u2500\u2500\u2500\u2500\u2500\u2500\u2500\u2500\u2500\u2500\u2500\u2500\u2500\u2500\u2500\u2500\u2500 +",
        "  2                      r                   2                2               ",
        "dr                                          r                r \u22c5sin(\u03c6)        ",
        "",
        "   2                ",
        "  d                 ",
        " \u2500\u2500\u2500(\u039e(r, \u03c6, \u03b8))    ",
        "   2                ",
        " d\u03b8                 ",
        " \u2500\u2500\u2500\u2500\u2500\u2500\u2500\u2500\u2500\u2500\u2500\u2500\u2500\u2500\u2500 = 0",
        "     2    2         ",
        "    r \u22c5sin (\u03c6)      "
       ]
      }
     ],
     "prompt_number": 2
    },
    {
     "cell_type": "markdown",
     "source": [
      "We can either separate this equation in regards with variable r:"
     ]
    },
    {
     "cell_type": "code",
     "collapsed": false,
     "input": [
      "res_r = pde_separate(eq, Xi(r, phi, theta), [R(r), u(phi, theta)])",
      "res_r"
     ],
     "language": "python",
     "outputs": [
      {
       "latex": [
        "$$\\begin{bmatrix}\\frac{3}{2} \\frac{r^{2} \\frac{\\partial^{2}}{\\partial^{2} r}  \\operatorname{R}{\\left (r \\right )}}{\\operatorname{R}{\\left (r \\right )}} + 3 \\frac{r \\frac{\\partial}{\\partial r} \\operatorname{R}{\\left (r \\right )}}{\\operatorname{R}{\\left (r \\right )}}, & - \\frac{3}{2} \\frac{\\frac{\\partial^{2}}{\\partial^{2} \\phi}  \\operatorname{u}{\\left (\\phi,\\theta \\right )}}{\\operatorname{u}{\\left (\\phi,\\theta \\right )}} - \\frac{3}{2} \\frac{\\frac{\\partial}{\\partial \\phi} \\operatorname{u}{\\left (\\phi,\\theta \\right )}}{\\operatorname{u}{\\left (\\phi,\\theta \\right )} \\tan{\\left (\\phi \\right )}} - \\frac{3}{2} \\frac{\\frac{\\partial^{2}}{\\partial^{2} \\theta}  \\operatorname{u}{\\left (\\phi,\\theta \\right )}}{\\operatorname{u}{\\left (\\phi,\\theta \\right )} \\sin^{2}{\\left (\\phi \\right )}}\\end{bmatrix}$$"
       ],
       "output_type": "pyout",
       "prompt_number": 3,
       "text": [
        "[",
        "       2                     ",
        "   2  d                      ",
        "3\u22c5r \u22c5\u2500\u2500\u2500(R(r))       d       ",
        "       2         3\u22c5r\u22c5\u2500\u2500(R(r))",
        "     dr              dr      ",
        "\u2500\u2500\u2500\u2500\u2500\u2500\u2500\u2500\u2500\u2500\u2500\u2500\u2500\u2500 + \u2500\u2500\u2500\u2500\u2500\u2500\u2500\u2500\u2500\u2500\u2500\u2500",
        "    2\u22c5R(r)           R(r)    ,",
        " ",
        "      2                                     2          ",
        "     d                                     d           ",
        "  3\u22c5\u2500\u2500\u2500(u(\u03c6, \u03b8))      d                 3\u22c5\u2500\u2500\u2500(u(\u03c6, \u03b8)) ",
        "      2             3\u22c5\u2500\u2500(u(\u03c6, \u03b8))           2          ",
        "    d\u03c6                d\u03c6                  d\u03b8           ",
        "- \u2500\u2500\u2500\u2500\u2500\u2500\u2500\u2500\u2500\u2500\u2500\u2500\u2500\u2500 - \u2500\u2500\u2500\u2500\u2500\u2500\u2500\u2500\u2500\u2500\u2500\u2500\u2500\u2500\u2500\u2500 - \u2500\u2500\u2500\u2500\u2500\u2500\u2500\u2500\u2500\u2500\u2500\u2500\u2500\u2500\u2500\u2500\u2500",
        "    2\u22c5u(\u03c6, \u03b8)      2\u22c5u(\u03c6, \u03b8)\u22c5tan(\u03c6)                2   ",
        "                                      2\u22c5u(\u03c6, \u03b8)\u22c5sin (\u03c6)]"
       ]
      }
     ],
     "prompt_number": 3
    },
    {
     "cell_type": "markdown",
     "source": [
      "Or separate it in regards of theta:"
     ]
    },
    {
     "cell_type": "code",
     "collapsed": false,
     "input": [
      "res_theta = pde_separate(eq, Xi(r, phi, theta), [Theta(theta), u(r, phi)])",
      "res_theta"
     ],
     "language": "python",
     "outputs": [
      {
       "latex": [
        "$$\\begin{bmatrix}\\frac{\\frac{\\partial^{2}}{\\partial^{2} \\theta}  \\operatorname{Theta}{\\left (\\theta \\right )}}{\\operatorname{Theta}{\\left (\\theta \\right )}}, & - \\frac{r^{2} \\sin^{2}{\\left (\\phi \\right )} \\frac{\\partial^{2}}{\\partial^{2} r}  \\operatorname{u}{\\left (r,\\phi \\right )}}{\\operatorname{u}{\\left (r,\\phi \\right )}} - 2 \\frac{r \\sin^{2}{\\left (\\phi \\right )} \\frac{\\partial}{\\partial r} \\operatorname{u}{\\left (r,\\phi \\right )}}{\\operatorname{u}{\\left (r,\\phi \\right )}} - \\frac{\\sin^{2}{\\left (\\phi \\right )} \\frac{\\partial^{2}}{\\partial^{2} \\phi}  \\operatorname{u}{\\left (r,\\phi \\right )}}{\\operatorname{u}{\\left (r,\\phi \\right )}} - \\frac{\\sin{\\left (\\phi \\right )} \\cos{\\left (\\phi \\right )} \\frac{\\partial}{\\partial \\phi} \\operatorname{u}{\\left (r,\\phi \\right )}}{\\operatorname{u}{\\left (r,\\phi \\right )}}\\end{bmatrix}$$"
       ],
       "output_type": "pyout",
       "prompt_number": 4,
       "text": [
        "[",
        "  2      ",
        " d       ",
        "\u2500\u2500\u2500(\u0398(\u03b8))",
        "  2      ",
        "d\u03b8       ",
        "\u2500\u2500\u2500\u2500\u2500\u2500\u2500\u2500\u2500",
        "   \u0398(\u03b8)  ,",
        " ",
        "               2                                                2             ",
        "   2    2     d                                          2     d              ",
        "  r \u22c5sin (\u03c6)\u22c5\u2500\u2500\u2500(u(r, \u03c6))          2    d             sin (\u03c6)\u22c5\u2500\u2500\u2500(u(r, \u03c6))    ",
        "               2            2\u22c5r\u22c5sin (\u03c6)\u22c5\u2500\u2500(u(r, \u03c6))             2            s",
        "             dr                         dr                    d\u03c6              ",
        "- \u2500\u2500\u2500\u2500\u2500\u2500\u2500\u2500\u2500\u2500\u2500\u2500\u2500\u2500\u2500\u2500\u2500\u2500\u2500\u2500\u2500\u2500\u2500 - \u2500\u2500\u2500\u2500\u2500\u2500\u2500\u2500\u2500\u2500\u2500\u2500\u2500\u2500\u2500\u2500\u2500\u2500\u2500\u2500\u2500\u2500\u2500 - \u2500\u2500\u2500\u2500\u2500\u2500\u2500\u2500\u2500\u2500\u2500\u2500\u2500\u2500\u2500\u2500\u2500\u2500\u2500\u2500 - \u2500",
        "          u(r, \u03c6)                   u(r, \u03c6)                 u(r, \u03c6)           ",
        "",
        "                        ",
        "                        ",
        "             d          ",
        "in(\u03c6)\u22c5cos(\u03c6)\u22c5\u2500\u2500(u(r, \u03c6))",
        "             d\u03c6         ",
        "\u2500\u2500\u2500\u2500\u2500\u2500\u2500\u2500\u2500\u2500\u2500\u2500\u2500\u2500\u2500\u2500\u2500\u2500\u2500\u2500\u2500\u2500\u2500\u2500",
        "        u(r, \u03c6)         ]"
       ]
      }
     ],
     "prompt_number": 4
    },
    {
     "cell_type": "markdown",
     "source": [
      "But we cannot separate it in regards of variable phi:"
     ]
    },
    {
     "cell_type": "code",
     "collapsed": true,
     "input": [
      "res_phi = pde_separate(eq, Xi(r, phi, theta), [Phi(phi), u(r, theta)])",
      "res_phi"
     ],
     "language": "python",
     "outputs": [],
     "prompt_number": 5
    },
    {
     "cell_type": "code",
     "collapsed": false,
     "input": [
      "res_phi is None"
     ],
     "language": "python",
     "outputs": [
      {
       "output_type": "pyout",
       "png": "[encoded data removed]",
       "prompt_number": 6,
       "text": [
        "True"
       ]
      }
     ],
     "prompt_number": 6
    },
    {
     "cell_type": "markdown",
     "source": [
      "So let's make theta dependent part equal with -C1:"
     ]
    },
    {
     "cell_type": "code",
     "collapsed": false,
     "input": [
      "eq_theta = Eq(res_theta[0], -C1)",
      "eq_theta"
     ],
     "language": "python",
     "outputs": [
      {
       "latex": [
        "$$\\frac{\\frac{\\partial^{2}}{\\partial^{2} \\theta}  \\operatorname{Theta}{\\left (\\theta \\right )}}{\\operatorname{Theta}{\\left (\\theta \\right )}} = - C_{1}$$"
       ],
       "output_type": "pyout",
       "png": "[encoded data removed]",
       "prompt_number": 7,
       "text": [
        "",
        "  2            ",
        " d             ",
        "\u2500\u2500\u2500(\u0398(\u03b8))      ",
        "  2            ",
        "d\u03b8             ",
        "\u2500\u2500\u2500\u2500\u2500\u2500\u2500\u2500\u2500 = -C\u2081",
        "   \u0398(\u03b8)        "
       ]
      }
     ],
     "prompt_number": 7
    },
    {
     "cell_type": "markdown",
     "source": [
      "This also means that second part is also equal to -C1:"
     ]
    },
    {
     "cell_type": "code",
     "collapsed": false,
     "input": [
      "eq_left = Eq(res_theta[1], -C1)",
      "eq_left"
     ],
     "language": "python",
     "outputs": [
      {
       "latex": [
        "$$- \\frac{r^{2} \\sin^{2}{\\left (\\phi \\right )} \\frac{\\partial^{2}}{\\partial^{2} r}  \\operatorname{u}{\\left (r,\\phi \\right )}}{\\operatorname{u}{\\left (r,\\phi \\right )}} - 2 \\frac{r \\sin^{2}{\\left (\\phi \\right )} \\frac{\\partial}{\\partial r} \\operatorname{u}{\\left (r,\\phi \\right )}}{\\operatorname{u}{\\left (r,\\phi \\right )}} - \\frac{\\sin^{2}{\\left (\\phi \\right )} \\frac{\\partial^{2}}{\\partial^{2} \\phi}  \\operatorname{u}{\\left (r,\\phi \\right )}}{\\operatorname{u}{\\left (r,\\phi \\right )}} - \\frac{\\sin{\\left (\\phi \\right )} \\cos{\\left (\\phi \\right )} \\frac{\\partial}{\\partial \\phi} \\operatorname{u}{\\left (r,\\phi \\right )}}{\\operatorname{u}{\\left (r,\\phi \\right )}} = - C_{1}$$"
       ],
       "output_type": "pyout",
       "png": "[encoded data removed]",
       "prompt_number": 8,
       "text": [
        "",
        "               2                                                2             ",
        "   2    2     d                                          2     d              ",
        "  r \u22c5sin (\u03c6)\u22c5\u2500\u2500\u2500(u(r, \u03c6))          2    d             sin (\u03c6)\u22c5\u2500\u2500\u2500(u(r, \u03c6))    ",
        "               2            2\u22c5r\u22c5sin (\u03c6)\u22c5\u2500\u2500(u(r, \u03c6))             2            s",
        "             dr                         dr                    d\u03c6              ",
        "- \u2500\u2500\u2500\u2500\u2500\u2500\u2500\u2500\u2500\u2500\u2500\u2500\u2500\u2500\u2500\u2500\u2500\u2500\u2500\u2500\u2500\u2500\u2500 - \u2500\u2500\u2500\u2500\u2500\u2500\u2500\u2500\u2500\u2500\u2500\u2500\u2500\u2500\u2500\u2500\u2500\u2500\u2500\u2500\u2500\u2500\u2500 - \u2500\u2500\u2500\u2500\u2500\u2500\u2500\u2500\u2500\u2500\u2500\u2500\u2500\u2500\u2500\u2500\u2500\u2500\u2500\u2500 - \u2500",
        "          u(r, \u03c6)                   u(r, \u03c6)                 u(r, \u03c6)           ",
        "",
        "                              ",
        "                              ",
        "             d                ",
        "in(\u03c6)\u22c5cos(\u03c6)\u22c5\u2500\u2500(u(r, \u03c6))      ",
        "             d\u03c6               ",
        "\u2500\u2500\u2500\u2500\u2500\u2500\u2500\u2500\u2500\u2500\u2500\u2500\u2500\u2500\u2500\u2500\u2500\u2500\u2500\u2500\u2500\u2500\u2500\u2500 = -C\u2081",
        "        u(r, \u03c6)               "
       ]
      }
     ],
     "prompt_number": 8
    },
    {
     "cell_type": "markdown",
     "source": [
      "Lets try to separate phi again:"
     ]
    },
    {
     "cell_type": "code",
     "collapsed": false,
     "input": [
      "res_theta = pde_separate(eq_left, u(r, phi), [Phi(phi), R(r)])",
      "res_theta"
     ],
     "language": "python",
     "outputs": [
      {
       "latex": [
        "$$\\begin{bmatrix}- \\frac{C_{1}}{\\sin^{2}{\\left (\\phi \\right )}} + \\frac{\\frac{\\partial^{2}}{\\partial^{2} \\phi}  \\operatorname{Phi}{\\left (\\phi \\right )}}{\\operatorname{Phi}{\\left (\\phi \\right )}} + \\frac{\\cos{\\left (\\phi \\right )} \\frac{\\partial}{\\partial \\phi} \\operatorname{Phi}{\\left (\\phi \\right )}}{\\operatorname{Phi}{\\left (\\phi \\right )} \\sin{\\left (\\phi \\right )}}, & - \\frac{r^{2} \\frac{\\partial^{2}}{\\partial^{2} r}  \\operatorname{R}{\\left (r \\right )}}{\\operatorname{R}{\\left (r \\right )}} - 2 \\frac{r \\frac{\\partial}{\\partial r} \\operatorname{R}{\\left (r \\right )}}{\\operatorname{R}{\\left (r \\right )}}\\end{bmatrix}$$"
       ],
       "output_type": "pyout",
       "prompt_number": 9,
       "text": [
        "[",
        "              2                        ",
        "             d                         ",
        "            \u2500\u2500\u2500(\u03a6(\u03c6))          d       ",
        "              2         cos(\u03c6)\u22c5\u2500\u2500(\u03a6(\u03c6))",
        "     C\u2081     d\u03c6                 d\u03c6      ",
        "- \u2500\u2500\u2500\u2500\u2500\u2500\u2500 + \u2500\u2500\u2500\u2500\u2500\u2500\u2500\u2500\u2500 + \u2500\u2500\u2500\u2500\u2500\u2500\u2500\u2500\u2500\u2500\u2500\u2500\u2500\u2500\u2500",
        "     2         \u03a6(\u03c6)       \u03a6(\u03c6)\u22c5sin(\u03c6)  ",
        "  sin (\u03c6)                              ,",
        " ",
        "       2                     ",
        "   2  d                      ",
        "  r \u22c5\u2500\u2500\u2500(R(r))       d       ",
        "       2         2\u22c5r\u22c5\u2500\u2500(R(r))",
        "     dr              dr      ",
        "- \u2500\u2500\u2500\u2500\u2500\u2500\u2500\u2500\u2500\u2500\u2500\u2500 - \u2500\u2500\u2500\u2500\u2500\u2500\u2500\u2500\u2500\u2500\u2500\u2500",
        "      R(r)           R(r)    ]"
       ]
      }
     ],
     "prompt_number": 9
    },
    {
     "cell_type": "markdown",
     "source": [
      "This time it is successful."
     ]
    },
    {
     "cell_type": "markdown",
     "source": [
      "## So our final equations with separated variables are:"
     ]
    },
    {
     "cell_type": "code",
     "collapsed": false,
     "input": [
      "eq_theta"
     ],
     "language": "python",
     "outputs": [
      {
       "latex": [
        "$$\\frac{\\frac{\\partial^{2}}{\\partial^{2} \\theta}  \\operatorname{Theta}{\\left (\\theta \\right )}}{\\operatorname{Theta}{\\left (\\theta \\right )}} = - C_{1}$$"
       ],
       "output_type": "pyout",
       "png": "[encoded data removed]",
       "prompt_number": 10,
       "text": [
        "",
        "  2            ",
        " d             ",
        "\u2500\u2500\u2500(\u0398(\u03b8))      ",
        "  2            ",
        "d\u03b8             ",
        "\u2500\u2500\u2500\u2500\u2500\u2500\u2500\u2500\u2500 = -C\u2081",
        "   \u0398(\u03b8)        "
       ]
      }
     ],
     "prompt_number": 10
    },
    {
     "cell_type": "code",
     "collapsed": false,
     "input": [
      "Eq(res_theta[0],C2)"
     ],
     "language": "python",
     "outputs": [
      {
       "latex": [
        "$$- \\frac{C_{1}}{\\sin^{2}{\\left (\\phi \\right )}} + \\frac{\\frac{\\partial^{2}}{\\partial^{2} \\phi}  \\operatorname{Phi}{\\left (\\phi \\right )}}{\\operatorname{Phi}{\\left (\\phi \\right )}} + \\frac{\\cos{\\left (\\phi \\right )} \\frac{\\partial}{\\partial \\phi} \\operatorname{Phi}{\\left (\\phi \\right )}}{\\operatorname{Phi}{\\left (\\phi \\right )} \\sin{\\left (\\phi \\right )}} = C_{2}$$"
       ],
       "output_type": "pyout",
       "png": "[encoded data removed]",
       "prompt_number": 11,
       "text": [
        "",
        "              2                             ",
        "             d                              ",
        "            \u2500\u2500\u2500(\u03a6(\u03c6))          d            ",
        "              2         cos(\u03c6)\u22c5\u2500\u2500(\u03a6(\u03c6))     ",
        "     C\u2081     d\u03c6                 d\u03c6           ",
        "- \u2500\u2500\u2500\u2500\u2500\u2500\u2500 + \u2500\u2500\u2500\u2500\u2500\u2500\u2500\u2500\u2500 + \u2500\u2500\u2500\u2500\u2500\u2500\u2500\u2500\u2500\u2500\u2500\u2500\u2500\u2500\u2500 = C\u2082",
        "     2         \u03a6(\u03c6)       \u03a6(\u03c6)\u22c5sin(\u03c6)       ",
        "  sin (\u03c6)                                   "
       ]
      }
     ],
     "prompt_number": 11
    },
    {
     "cell_type": "code",
     "collapsed": false,
     "input": [
      "Eq(res_theta[1],C2)"
     ],
     "language": "python",
     "outputs": [
      {
       "latex": [
        "$$- \\frac{r^{2} \\frac{\\partial^{2}}{\\partial^{2} r}  \\operatorname{R}{\\left (r \\right )}}{\\operatorname{R}{\\left (r \\right )}} - 2 \\frac{r \\frac{\\partial}{\\partial r} \\operatorname{R}{\\left (r \\right )}}{\\operatorname{R}{\\left (r \\right )}} = C_{2}$$"
       ],
       "output_type": "pyout",
       "png": "[encoded data removed]",
       "prompt_number": 12,
       "text": [
        "",
        "       2                          ",
        "   2  d                           ",
        "  r \u22c5\u2500\u2500\u2500(R(r))       d            ",
        "       2         2\u22c5r\u22c5\u2500\u2500(R(r))     ",
        "     dr              dr           ",
        "- \u2500\u2500\u2500\u2500\u2500\u2500\u2500\u2500\u2500\u2500\u2500\u2500 - \u2500\u2500\u2500\u2500\u2500\u2500\u2500\u2500\u2500\u2500\u2500\u2500 = C\u2082",
        "      R(r)           R(r)         "
       ]
      }
     ],
     "prompt_number": 12
    }
   ]
  }
 ]
}